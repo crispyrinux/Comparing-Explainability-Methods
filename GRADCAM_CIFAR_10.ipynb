{
  "nbformat": 4,
  "nbformat_minor": 0,
  "metadata": {
    "colab": {
      "provenance": [],
      "authorship_tag": "ABX9TyPc3EeNKjPG5tCukkz7wn7U",
      "include_colab_link": true
    },
    "kernelspec": {
      "name": "python3",
      "display_name": "Python 3"
    },
    "language_info": {
      "name": "python"
    }
  },
  "cells": [
    {
      "cell_type": "markdown",
      "metadata": {
        "id": "view-in-github",
        "colab_type": "text"
      },
      "source": [
        "<a href=\"https://colab.research.google.com/github/crispyrinux/Comparing-Explainability-Methods/blob/main/GRADCAM_CIFAR_10.ipynb\" target=\"_parent\"><img src=\"https://colab.research.google.com/assets/colab-badge.svg\" alt=\"Open In Colab\"/></a>"
      ]
    },
    {
      "cell_type": "code",
      "execution_count": null,
      "metadata": {
        "id": "_ranzFyCP7bu"
      },
      "outputs": [],
      "source": [
        "import numpy as np\n",
        "import tensorflow as tf\n",
        "from tensorflow import keras\n",
        "import matplotlib.pyplot as plt\n",
        "import matplotlib.cm as cm\n"
      ]
    },
    {
      "cell_type": "code",
      "source": [
        "# Load CIFAR-10 dataset\n",
        "(x_train, y_train), (x_test, y_test) = keras.datasets.cifar10.load_data()\n",
        "\n",
        "# Normalize pixel values to [0,1]\n",
        "x_train, x_test = x_train / 255.0, x_test / 255.0\n",
        "\n",
        "print(\"Train shape:\", x_train.shape)\n",
        "print(\"Test shape:\", x_test.shape)\n"
      ],
      "metadata": {
        "colab": {
          "base_uri": "https://localhost:8080/"
        },
        "id": "-Mb8oJAHP90E",
        "outputId": "2bcacfa4-e110-4c53-a73c-6606fdf5df4e"
      },
      "execution_count": null,
      "outputs": [
        {
          "output_type": "stream",
          "name": "stdout",
          "text": [
            "Train shape: (50000, 32, 32, 3)\n",
            "Test shape: (10000, 32, 32, 3)\n"
          ]
        }
      ]
    },
    {
      "cell_type": "code",
      "source": [
        "# Preprocess & resize layer to match ResNet input (224x224)\n",
        "resize_layer = keras.layers.Resizing(224, 224)\n",
        "\n",
        "# Base model: ResNet50 pretrained on ImageNet\n",
        "base_model = keras.applications.ResNet50(\n",
        "    weights=\"imagenet\", include_top=False, input_shape=(224,224,3)\n",
        ")\n",
        "\n",
        "# Tambahkan layer classification sesuai CIFAR-10\n",
        "x = keras.layers.GlobalAveragePooling2D()(base_model.output)\n",
        "output = keras.layers.Dense(10, activation=\"softmax\")(x)\n",
        "model = keras.Model(inputs=base_model.input, outputs=output)\n",
        "\n",
        "# Freeze base model (supaya cepat)\n",
        "for layer in base_model.layers:\n",
        "    layer.trainable = False\n",
        "\n",
        "# Compile model\n",
        "model.compile(optimizer=\"adam\",\n",
        "              loss=\"sparse_categorical_crossentropy\",\n",
        "              metrics=[\"accuracy\"])\n"
      ],
      "metadata": {
        "id": "lY_0NMW-P_Lt"
      },
      "execution_count": null,
      "outputs": []
    },
    {
      "cell_type": "code",
      "source": [
        "# CIFAR-10 class names\n",
        "cifar10_labels = [\n",
        "    \"airplane\", \"automobile\", \"bird\", \"cat\", \"deer\",\n",
        "    \"dog\", \"frog\", \"horse\", \"ship\", \"truck\"\n",
        "]\n",
        "\n",
        "# Ambil gambar ke-9999 dari test set\n",
        "idx = 9999\n",
        "img = x_test[idx]\n",
        "label = y_test[idx][0]\n",
        "\n",
        "# Tampilkan gambar asli\n",
        "plt.imshow(img)\n",
        "plt.title(f\"Original Image (Index {idx}) - True Label: {cifar10_labels[label]} ({label})\")\n",
        "plt.axis(\"off\")\n",
        "plt.show()\n",
        "\n",
        "# Resize ke 224x224 untuk input ResNet\n",
        "img_resized = resize_layer(np.expand_dims(img, axis=0))\n",
        "\n",
        "# Prediksi kelas\n",
        "preds = model.predict(img_resized)\n",
        "pred_class = np.argmax(preds[0])\n",
        "\n",
        "print(\"True Label:\", cifar10_labels[label], f\"({label})\")\n",
        "print(\"Predicted Label:\", cifar10_labels[pred_class], f\"({pred_class})\")\n"
      ],
      "metadata": {
        "colab": {
          "base_uri": "https://localhost:8080/",
          "height": 480
        },
        "id": "d9XW93I2QBYP",
        "outputId": "09285297-a68e-441d-b340-58558a39aeb7"
      },
      "execution_count": null,
      "outputs": [
        {
          "output_type": "display_data",
          "data": {
            "text/plain": [
              "<Figure size 640x480 with 1 Axes>"
            ],
            "image/png": "[encoded data removed]"
          },
          "metadata": {}
        },
        {
          "output_type": "stream",
          "name": "stdout",
          "text": [
            "\u001b[1m1/1\u001b[0m \u001b[32m━━━━━━━━━━━━━━━━━━━━\u001b[0m\u001b[37m\u001b[0m \u001b[1m3s\u001b[0m 3s/step\n",
            "True Label: horse (7)\n",
            "Predicted Label: ship (8)\n"
          ]
        }
      ]
    },
    {
      "cell_type": "code",
      "source": [
        "def make_gradcam_heatmap(img_array, model, last_conv_layer_name, pred_index=None):\n",
        "    grad_model = keras.models.Model(\n",
        "        [model.inputs], [model.get_layer(last_conv_layer_name).output, model.output]\n",
        "    )\n",
        "\n",
        "    with tf.GradientTape() as tape:\n",
        "        conv_outputs, predictions = grad_model(img_array)\n",
        "        if pred_index is None:\n",
        "            pred_index = tf.argmax(predictions[0])\n",
        "        class_channel = predictions[:, pred_index]\n",
        "\n",
        "    # Hitung gradien\n",
        "    grads = tape.gradient(class_channel, conv_outputs)\n",
        "\n",
        "    # Pool gradien\n",
        "    pooled_grads = tf.reduce_mean(grads, axis=(0, 1, 2))\n",
        "\n",
        "    # Kalikan importance ke feature map\n",
        "    conv_outputs = conv_outputs[0]\n",
        "    heatmap = conv_outputs @ pooled_grads[..., tf.newaxis]\n",
        "    heatmap = tf.squeeze(heatmap)\n",
        "\n",
        "    # Normalisasi 0-1\n",
        "    heatmap = tf.maximum(heatmap, 0) / tf.math.reduce_max(heatmap)\n",
        "    return heatmap.numpy()\n"
      ],
      "metadata": {
        "id": "QwDqViLaQJ1B"
      },
      "execution_count": null,
      "outputs": []
    },
    {
      "cell_type": "code",
      "source": [
        "# Tentukan layer terakhir conv di ResNet50\n",
        "last_conv_layer_name = \"conv5_block3_out\"\n",
        "\n",
        "# Buat heatmap\n",
        "heatmap = make_gradcam_heatmap(img_resized, model, last_conv_layer_name)\n",
        "\n",
        "# Plot heatmap\n",
        "plt.matshow(heatmap)\n",
        "plt.title(\"Grad-CAM Heatmap\")\n",
        "plt.show()\n"
      ],
      "metadata": {
        "colab": {
          "base_uri": "https://localhost:8080/",
          "height": 528
        },
        "id": "DxV-YbB_QK3T",
        "outputId": "cc99e1a1-bd64-4f6c-e16b-8f2f612aa514"
      },
      "execution_count": null,
      "outputs": [
        {
          "output_type": "stream",
          "name": "stderr",
          "text": [
            "/usr/local/lib/python3.12/dist-packages/keras/src/models/functional.py:241: UserWarning: The structure of `inputs` doesn't match the expected structure.\n",
            "Expected: [['keras_tensor_354']]\n",
            "Received: inputs=['Tensor(shape=(1, 224, 224, 3))']\n",
            "  warnings.warn(msg)\n"
          ]
        },
        {
          "output_type": "display_data",
          "data": {
            "text/plain": [
              "<Figure size 480x480 with 1 Axes>"
            ],
            "image/png": "[encoded data removed]"
          },
          "metadata": {}
        }
      ]
    },
    {
      "cell_type": "code",
      "source": [
        "import cv2\n",
        "\n",
        "def superimpose_heatmap(img, heatmap, alpha=0.4):\n",
        "    # Resize heatmap ke ukuran gambar\n",
        "    heatmap = cv2.resize(heatmap, (img.shape[1], img.shape[0]))\n",
        "    heatmap = np.uint8(255 * heatmap)\n",
        "    heatmap = cv2.applyColorMap(heatmap, cv2.COLORMAP_JET)\n",
        "\n",
        "    # Superimpose\n",
        "    superimposed_img = cv2.addWeighted(heatmap, alpha, np.uint8(img*255), 1-alpha, 0)\n",
        "    return superimposed_img\n",
        "\n",
        "superimposed_img = superimpose_heatmap(img, heatmap)\n",
        "\n",
        "# Tampilkan hasil\n",
        "plt.imshow(superimposed_img[..., ::-1])  # convert BGR->RGB\n",
        "plt.title(\"Grad-CAM Superimposed\")\n",
        "plt.axis(\"off\")\n",
        "plt.show()\n"
      ],
      "metadata": {
        "colab": {
          "base_uri": "https://localhost:8080/",
          "height": 428
        },
        "id": "d-7kHz7VQM9F",
        "outputId": "0019e316-b0eb-41d5-fc8c-2be378ac7480"
      },
      "execution_count": null,
      "outputs": [
        {
          "output_type": "display_data",
          "data": {
            "text/plain": [
              "<Figure size 640x480 with 1 Axes>"
            ],
            "image/png": "[encoded data removed]"
          },
          "metadata": {}
        }
      ]
    }
  ]
}